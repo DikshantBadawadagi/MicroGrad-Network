{
  "nbformat": 4,
  "nbformat_minor": 0,
  "metadata": {
    "colab": {
      "provenance": [],
      "authorship_tag": "ABX9TyOeC4ZO4kmFtmImlPJJlfQM",
      "include_colab_link": true
    },
    "kernelspec": {
      "name": "python3",
      "display_name": "Python 3"
    },
    "language_info": {
      "name": "python"
    }
  },
  "cells": [
    {
      "cell_type": "markdown",
      "metadata": {
        "id": "view-in-github",
        "colab_type": "text"
      },
      "source": [
        "<a href=\"https://colab.research.google.com/github/DikshantBadawadagi/MicroGrad-Network/blob/main/MicroGrad.ipynb\" target=\"_parent\"><img src=\"https://colab.research.google.com/assets/colab-badge.svg\" alt=\"Open In Colab\"/></a>"
      ]
    },
    {
      "cell_type": "code",
      "execution_count": 59,
      "metadata": {
        "id": "_mHfdXWQ6BOK"
      },
      "outputs": [],
      "source": [
        "import math\n",
        "import numpy as np\n",
        "import matplotlib.pyplot as plt\n",
        "%matplotlib inline"
      ]
    },
    {
      "cell_type": "code",
      "source": [
        "def f(x):\n",
        "  return 2*x**2 - 4*x -19"
      ],
      "metadata": {
        "id": "ZoPBFALv6C3C"
      },
      "execution_count": 60,
      "outputs": []
    },
    {
      "cell_type": "code",
      "source": [
        "print(f(10))"
      ],
      "metadata": {
        "colab": {
          "base_uri": "https://localhost:8080/"
        },
        "id": "w5fc2wQI6VdX",
        "outputId": "c8db538a-1124-41e2-b487-1013f26fac7b"
      },
      "execution_count": 61,
      "outputs": [
        {
          "output_type": "stream",
          "name": "stdout",
          "text": [
            "141\n"
          ]
        }
      ]
    },
    {
      "cell_type": "code",
      "source": [
        "xs = np.arange(-10,11,1)\n",
        "xs"
      ],
      "metadata": {
        "colab": {
          "base_uri": "https://localhost:8080/"
        },
        "id": "WAsS3hMO6Xw-",
        "outputId": "09d4fead-ff40-4c03-afb9-799c67a77c6d"
      },
      "execution_count": 62,
      "outputs": [
        {
          "output_type": "execute_result",
          "data": {
            "text/plain": [
              "array([-10,  -9,  -8,  -7,  -6,  -5,  -4,  -3,  -2,  -1,   0,   1,   2,\n",
              "         3,   4,   5,   6,   7,   8,   9,  10])"
            ]
          },
          "metadata": {},
          "execution_count": 62
        }
      ]
    },
    {
      "cell_type": "code",
      "source": [
        "y =f(xs)\n",
        "print(y)"
      ],
      "metadata": {
        "colab": {
          "base_uri": "https://localhost:8080/"
        },
        "id": "XRu9lqIQ6n-4",
        "outputId": "759d4357-24aa-48f0-8303-4823b25d3631"
      },
      "execution_count": 63,
      "outputs": [
        {
          "output_type": "stream",
          "name": "stdout",
          "text": [
            "[221 179 141 107  77  51  29  11  -3 -13 -19 -21 -19 -13  -3  11  29  51\n",
            "  77 107 141]\n"
          ]
        }
      ]
    },
    {
      "cell_type": "code",
      "source": [
        "plt.plot(xs,y)"
      ],
      "metadata": {
        "colab": {
          "base_uri": "https://localhost:8080/",
          "height": 447
        },
        "id": "O4EieG8R6sG-",
        "outputId": "312849f9-e79c-410f-978e-75929c2b3287"
      },
      "execution_count": 64,
      "outputs": [
        {
          "output_type": "execute_result",
          "data": {
            "text/plain": [
              "[<matplotlib.lines.Line2D at 0x7844c931ee90>]"
            ]
          },
          "metadata": {},
          "execution_count": 64
        },
        {
          "output_type": "display_data",
          "data": {
            "text/plain": [
              "<Figure size 640x480 with 1 Axes>"
            ],
            "image/png": "[encoded data removed]"
          },
          "metadata": {}
        }
      ]
    },
    {
      "cell_type": "code",
      "source": [
        "h = 0.000001\n",
        "x =5\n",
        "print((f(x+h) - f(x))/h)"
      ],
      "metadata": {
        "colab": {
          "base_uri": "https://localhost:8080/"
        },
        "id": "EeakhYQy6zBs",
        "outputId": "351476af-f8b1-45d3-c86c-86317d6f068c"
      },
      "execution_count": 65,
      "outputs": [
        {
          "output_type": "stream",
          "name": "stdout",
          "text": [
            "16.00000200241425\n"
          ]
        }
      ]
    },
    {
      "cell_type": "code",
      "source": [
        "a = 2.0\n",
        "b = -4.0\n",
        "c = 10.0\n",
        "\n",
        "d = a*b +c"
      ],
      "metadata": {
        "id": "Rq23jA1X7DjG"
      },
      "execution_count": 66,
      "outputs": []
    },
    {
      "cell_type": "code",
      "source": [
        "d"
      ],
      "metadata": {
        "colab": {
          "base_uri": "https://localhost:8080/"
        },
        "id": "qr6jMDuk7aOX",
        "outputId": "7862097c-7721-4f5a-8571-ef6f03224008"
      },
      "execution_count": 67,
      "outputs": [
        {
          "output_type": "execute_result",
          "data": {
            "text/plain": [
              "2.0"
            ]
          },
          "metadata": {},
          "execution_count": 67
        }
      ]
    },
    {
      "cell_type": "code",
      "source": [
        "h = 0.000001\n",
        "a = 2.0\n",
        "b = -4.0\n",
        "c = 10.0\n",
        "c = c+h\n",
        "d1 = a*b + c\n",
        "d1"
      ],
      "metadata": {
        "colab": {
          "base_uri": "https://localhost:8080/"
        },
        "id": "_6mvGJ5m7bbe",
        "outputId": "f84e15ce-61aa-40be-ccc7-9b63a32cdf29"
      },
      "execution_count": 68,
      "outputs": [
        {
          "output_type": "execute_result",
          "data": {
            "text/plain": [
              "2.0000009999999993"
            ]
          },
          "metadata": {},
          "execution_count": 68
        }
      ]
    },
    {
      "cell_type": "code",
      "source": [
        "(d1- d)/h"
      ],
      "metadata": {
        "colab": {
          "base_uri": "https://localhost:8080/"
        },
        "id": "chYuQEEL7srO",
        "outputId": "4a22bceb-0d23-4f08-9dcc-a9bf682b71a5"
      },
      "execution_count": 69,
      "outputs": [
        {
          "output_type": "execute_result",
          "data": {
            "text/plain": [
              "0.9999999992515995"
            ]
          },
          "metadata": {},
          "execution_count": 69
        }
      ]
    },
    {
      "cell_type": "code",
      "source": [
        "class Value:\n",
        "\n",
        "  def __init__(self,data, _children=(),_op='', label=''):\n",
        "    self.data = data\n",
        "    self._prev = set(_children)\n",
        "    self._op = _op\n",
        "    self.label = label\n",
        "  def __repr__(self):\n",
        "    return f\"Value(data={self.data})\"\n",
        "  def __add__(self,other):\n",
        "    out = Value(self.data + other.data,(self,other),'+')\n",
        "    return out\n",
        "  def __mul__(self,other):\n",
        "    out = Value(self.data * other.data,(self,other),'*')\n",
        "    return out\n",
        "\n",
        "a = Value(2.0, label='a')\n",
        "b = Value(-3.0,label='b')\n",
        "c = Value(8.0,label='c')\n",
        "e = a*b; e.label='e'\n",
        "d= e + c;d.label = 'd'\n",
        "f = Value(-2.0, label='f')\n",
        "L = d*f;L.label='L'\n",
        "L"
      ],
      "metadata": {
        "colab": {
          "base_uri": "https://localhost:8080/"
        },
        "id": "Me2l8vag78Wk",
        "outputId": "cb614724-b201-47b6-b8b6-5b9865e4f568"
      },
      "execution_count": 70,
      "outputs": [
        {
          "output_type": "execute_result",
          "data": {
            "text/plain": [
              "Value(data=-4.0)"
            ]
          },
          "metadata": {},
          "execution_count": 70
        }
      ]
    },
    {
      "cell_type": "code",
      "source": [
        "d._prev"
      ],
      "metadata": {
        "colab": {
          "base_uri": "https://localhost:8080/"
        },
        "id": "1QFUlkTL8pdz",
        "outputId": "5e45ae01-1f8d-4921-cb40-09770f19357e"
      },
      "execution_count": 71,
      "outputs": [
        {
          "output_type": "execute_result",
          "data": {
            "text/plain": [
              "{Value(data=-6.0), Value(data=8.0)}"
            ]
          },
          "metadata": {},
          "execution_count": 71
        }
      ]
    },
    {
      "cell_type": "code",
      "source": [
        "d._op"
      ],
      "metadata": {
        "colab": {
          "base_uri": "https://localhost:8080/",
          "height": 35
        },
        "id": "8DMxIqeTAibz",
        "outputId": "79c2d992-e6e6-4c6a-b905-afe853c11821"
      },
      "execution_count": 72,
      "outputs": [
        {
          "output_type": "execute_result",
          "data": {
            "text/plain": [
              "'+'"
            ],
            "application/vnd.google.colaboratory.intrinsic+json": {
              "type": "string"
            }
          },
          "metadata": {},
          "execution_count": 72
        }
      ]
    },
    {
      "cell_type": "code",
      "source": [
        "from graphviz import Digraph\n",
        "def trace(root):\n",
        "  nodes,edges =set(),set()\n",
        "  def build(v):\n",
        "    if v not in nodes:\n",
        "      nodes.add(v)\n",
        "      for child in v._prev:\n",
        "        edges.add((child,v))\n",
        "        build(child)\n",
        "  build(root)\n",
        "  return nodes, edges\n",
        "\n",
        "def draw_dot(root):\n",
        "  dot = Digraph(format='svg',graph_attr={'rankdir':'LR'})\n",
        "\n",
        "  nodes, edges = trace(root)\n",
        "  for n in nodes:\n",
        "    uid = str(id(n))\n",
        "    dot.node(name = uid, label = \"{ %s | data %.4f }\"% (n.label, n.data), shape='record')\n",
        "    if n._op:\n",
        "      dot.node(name = uid + n._op, label = n._op)\n",
        "      dot.edge(uid + n._op, uid)\n",
        "\n",
        "  for n1,n2 in edges:\n",
        "    dot.edge(str(id(n1)),str(id(n2)) + n2._op)\n",
        "  return dot"
      ],
      "metadata": {
        "id": "R8V4-whAA2Wj"
      },
      "execution_count": 73,
      "outputs": []
    },
    {
      "cell_type": "code",
      "source": [
        "draw_dot(L)"
      ],
      "metadata": {
        "colab": {
          "base_uri": "https://localhost:8080/",
          "height": 192
        },
        "id": "hEucoywxCBDn",
        "outputId": "65ec8f9d-eae4-4f2f-e00b-1049a13fca1b"
      },
      "execution_count": 74,
      "outputs": [
        {
          "output_type": "execute_result",
          "data": {
            "image/svg+xml": "<?xml version=\"1.0\" encoding=\"UTF-8\" standalone=\"no\"?>\n<!DOCTYPE svg PUBLIC \"-//W3C//DTD SVG 1.1//EN\"\n \"http://www.w3.org/Graphics/SVG/1.1/DTD/svg11.dtd\">\n<!-- Generated by graphviz version 2.43.0 (0)\n -->\n<!-- Title: %3 Pages: 1 -->\n<svg width=\"818pt\" height=\"128pt\"\n viewBox=\"0.00 0.00 818.00 128.00\" xmlns=\"http://www.w3.org/2000/svg\" xmlns:xlink=\"http://www.w3.org/1999/xlink\">\n<g id=\"graph0\" class=\"graph\" transform=\"scale(1 1) rotate(0) translate(4 124)\">\n<title>%3</title>\n<polygon fill=\"white\" stroke=\"transparent\" points=\"-4,4 -4,-124 814,-124 814,4 -4,4\"/>\n<!-- 132236824866832 -->\n<g id=\"node1\" class=\"node\">\n<title>132236824866832</title>\n<polygon fill=\"none\" stroke=\"black\" points=\"236.5,-83.5 236.5,-119.5 339.5,-119.5 339.5,-83.5 236.5,-83.5\"/>\n<text text-anchor=\"middle\" x=\"248\" y=\"-97.8\" font-family=\"Times,serif\" font-size=\"14.00\">c</text>\n<polyline fill=\"none\" stroke=\"black\" points=\"259.5,-83.5 259.5,-119.5 \"/>\n<text text-anchor=\"middle\" x=\"299.5\" y=\"-97.8\" font-family=\"Times,serif\" font-size=\"14.00\">data 8.0000</text>\n</g>\n<!-- 132236824864048+ -->\n<g id=\"node8\" class=\"node\">\n<title>132236824864048+</title>\n<ellipse fill=\"none\" stroke=\"black\" cx=\"405\" cy=\"-73.5\" rx=\"27\" ry=\"18\"/>\n<text text-anchor=\"middle\" x=\"405\" y=\"-69.8\" font-family=\"Times,serif\" font-size=\"14.00\">+</text>\n</g>\n<!-- 132236824866832&#45;&gt;132236824864048+ -->\n<g id=\"edge7\" class=\"edge\">\n<title>132236824866832&#45;&gt;132236824864048+</title>\n<path fill=\"none\" stroke=\"black\" d=\"M339.78,-89.14C349.85,-86.68 360.2,-84.16 369.58,-81.88\"/>\n<polygon fill=\"black\" stroke=\"black\" points=\"370.41,-85.28 379.3,-79.51 368.76,-78.48 370.41,-85.28\"/>\n</g>\n<!-- 132236824870048 -->\n<g id=\"node2\" class=\"node\">\n<title>132236824870048</title>\n<polygon fill=\"none\" stroke=\"black\" points=\"234,-28.5 234,-64.5 342,-64.5 342,-28.5 234,-28.5\"/>\n<text text-anchor=\"middle\" x=\"245.5\" y=\"-42.8\" font-family=\"Times,serif\" font-size=\"14.00\">e</text>\n<polyline fill=\"none\" stroke=\"black\" points=\"257,-28.5 257,-64.5 \"/>\n<text text-anchor=\"middle\" x=\"299.5\" y=\"-42.8\" font-family=\"Times,serif\" font-size=\"14.00\">data &#45;6.0000</text>\n</g>\n<!-- 132236824870048&#45;&gt;132236824864048+ -->\n<g id=\"edge5\" class=\"edge\">\n<title>132236824870048&#45;&gt;132236824864048+</title>\n<path fill=\"none\" stroke=\"black\" d=\"M342.12,-58.97C351.33,-61.13 360.68,-63.33 369.24,-65.34\"/>\n<polygon fill=\"black\" stroke=\"black\" points=\"368.68,-68.8 379.21,-67.68 370.28,-61.99 368.68,-68.8\"/>\n</g>\n<!-- 132236824870048* -->\n<g id=\"node3\" class=\"node\">\n<title>132236824870048*</title>\n<ellipse fill=\"none\" stroke=\"black\" cx=\"171\" cy=\"-46.5\" rx=\"27\" ry=\"18\"/>\n<text text-anchor=\"middle\" x=\"171\" y=\"-42.8\" font-family=\"Times,serif\" font-size=\"14.00\">*</text>\n</g>\n<!-- 132236824870048*&#45;&gt;132236824870048 -->\n<g id=\"edge1\" class=\"edge\">\n<title>132236824870048*&#45;&gt;132236824870048</title>\n<path fill=\"none\" stroke=\"black\" d=\"M198.1,-46.5C205.8,-46.5 214.59,-46.5 223.57,-46.5\"/>\n<polygon fill=\"black\" stroke=\"black\" points=\"223.75,-50 233.75,-46.5 223.75,-43 223.75,-50\"/>\n</g>\n<!-- 132236824861408 -->\n<g id=\"node4\" class=\"node\">\n<title>132236824861408</title>\n<polygon fill=\"none\" stroke=\"black\" points=\"468,-0.5 468,-36.5 574,-36.5 574,-0.5 468,-0.5\"/>\n<text text-anchor=\"middle\" x=\"478.5\" y=\"-14.8\" font-family=\"Times,serif\" font-size=\"14.00\">f</text>\n<polyline fill=\"none\" stroke=\"black\" points=\"489,-0.5 489,-36.5 \"/>\n<text text-anchor=\"middle\" x=\"531.5\" y=\"-14.8\" font-family=\"Times,serif\" font-size=\"14.00\">data &#45;2.0000</text>\n</g>\n<!-- 132236824860400* -->\n<g id=\"node6\" class=\"node\">\n<title>132236824860400*</title>\n<ellipse fill=\"none\" stroke=\"black\" cx=\"637\" cy=\"-45.5\" rx=\"27\" ry=\"18\"/>\n<text text-anchor=\"middle\" x=\"637\" y=\"-41.8\" font-family=\"Times,serif\" font-size=\"14.00\">*</text>\n</g>\n<!-- 132236824861408&#45;&gt;132236824860400* -->\n<g id=\"edge6\" class=\"edge\">\n<title>132236824861408&#45;&gt;132236824860400*</title>\n<path fill=\"none\" stroke=\"black\" d=\"M574.33,-30.89C583.48,-33.06 592.8,-35.27 601.33,-37.29\"/>\n<polygon fill=\"black\" stroke=\"black\" points=\"600.73,-40.74 611.27,-39.64 602.34,-33.93 600.73,-40.74\"/>\n</g>\n<!-- 132236824860400 -->\n<g id=\"node5\" class=\"node\">\n<title>132236824860400</title>\n<polygon fill=\"none\" stroke=\"black\" points=\"700,-27.5 700,-63.5 810,-63.5 810,-27.5 700,-27.5\"/>\n<text text-anchor=\"middle\" x=\"712.5\" y=\"-41.8\" font-family=\"Times,serif\" font-size=\"14.00\">L</text>\n<polyline fill=\"none\" stroke=\"black\" points=\"725,-27.5 725,-63.5 \"/>\n<text text-anchor=\"middle\" x=\"767.5\" y=\"-41.8\" font-family=\"Times,serif\" font-size=\"14.00\">data &#45;4.0000</text>\n</g>\n<!-- 132236824860400*&#45;&gt;132236824860400 -->\n<g id=\"edge2\" class=\"edge\">\n<title>132236824860400*&#45;&gt;132236824860400</title>\n<path fill=\"none\" stroke=\"black\" d=\"M664.03,-45.5C671.7,-45.5 680.45,-45.5 689.42,-45.5\"/>\n<polygon fill=\"black\" stroke=\"black\" points=\"689.58,-49 699.58,-45.5 689.58,-42 689.58,-49\"/>\n</g>\n<!-- 132236824864048 -->\n<g id=\"node7\" class=\"node\">\n<title>132236824864048</title>\n<polygon fill=\"none\" stroke=\"black\" points=\"469.5,-55.5 469.5,-91.5 572.5,-91.5 572.5,-55.5 469.5,-55.5\"/>\n<text text-anchor=\"middle\" x=\"481\" y=\"-69.8\" font-family=\"Times,serif\" font-size=\"14.00\">d</text>\n<polyline fill=\"none\" stroke=\"black\" points=\"492.5,-55.5 492.5,-91.5 \"/>\n<text text-anchor=\"middle\" x=\"532.5\" y=\"-69.8\" font-family=\"Times,serif\" font-size=\"14.00\">data 2.0000</text>\n</g>\n<!-- 132236824864048&#45;&gt;132236824860400* -->\n<g id=\"edge8\" class=\"edge\">\n<title>132236824864048&#45;&gt;132236824860400*</title>\n<path fill=\"none\" stroke=\"black\" d=\"M572.67,-61.06C582.43,-58.66 592.45,-56.2 601.55,-53.96\"/>\n<polygon fill=\"black\" stroke=\"black\" points=\"602.5,-57.33 611.37,-51.55 600.83,-50.54 602.5,-57.33\"/>\n</g>\n<!-- 132236824864048+&#45;&gt;132236824864048 -->\n<g id=\"edge3\" class=\"edge\">\n<title>132236824864048+&#45;&gt;132236824864048</title>\n<path fill=\"none\" stroke=\"black\" d=\"M432.15,-73.5C440.26,-73.5 449.57,-73.5 459.02,-73.5\"/>\n<polygon fill=\"black\" stroke=\"black\" points=\"459.28,-77 469.28,-73.5 459.28,-70 459.28,-77\"/>\n</g>\n<!-- 132236824859440 -->\n<g id=\"node9\" class=\"node\">\n<title>132236824859440</title>\n<polygon fill=\"none\" stroke=\"black\" points=\"0,-56.5 0,-92.5 108,-92.5 108,-56.5 0,-56.5\"/>\n<text text-anchor=\"middle\" x=\"11.5\" y=\"-70.8\" font-family=\"Times,serif\" font-size=\"14.00\">b</text>\n<polyline fill=\"none\" stroke=\"black\" points=\"23,-56.5 23,-92.5 \"/>\n<text text-anchor=\"middle\" x=\"65.5\" y=\"-70.8\" font-family=\"Times,serif\" font-size=\"14.00\">data &#45;3.0000</text>\n</g>\n<!-- 132236824859440&#45;&gt;132236824870048* -->\n<g id=\"edge9\" class=\"edge\">\n<title>132236824859440&#45;&gt;132236824870048*</title>\n<path fill=\"none\" stroke=\"black\" d=\"M108.12,-61.57C117.51,-59.28 127.06,-56.95 135.76,-54.84\"/>\n<polygon fill=\"black\" stroke=\"black\" points=\"136.62,-58.23 145.51,-52.46 134.97,-51.43 136.62,-58.23\"/>\n</g>\n<!-- 132236824859536 -->\n<g id=\"node10\" class=\"node\">\n<title>132236824859536</title>\n<polygon fill=\"none\" stroke=\"black\" points=\"2.5,-1.5 2.5,-37.5 105.5,-37.5 105.5,-1.5 2.5,-1.5\"/>\n<text text-anchor=\"middle\" x=\"14\" y=\"-15.8\" font-family=\"Times,serif\" font-size=\"14.00\">a</text>\n<polyline fill=\"none\" stroke=\"black\" points=\"25.5,-1.5 25.5,-37.5 \"/>\n<text text-anchor=\"middle\" x=\"65.5\" y=\"-15.8\" font-family=\"Times,serif\" font-size=\"14.00\">data 2.0000</text>\n</g>\n<!-- 132236824859536&#45;&gt;132236824870048* -->\n<g id=\"edge4\" class=\"edge\">\n<title>132236824859536&#45;&gt;132236824870048*</title>\n<path fill=\"none\" stroke=\"black\" d=\"M105.78,-31.42C115.74,-33.76 125.98,-36.17 135.28,-38.35\"/>\n<polygon fill=\"black\" stroke=\"black\" points=\"134.77,-41.82 145.3,-40.7 136.37,-35.01 134.77,-41.82\"/>\n</g>\n</g>\n</svg>\n",
            "text/plain": [
              "<graphviz.graphs.Digraph at 0x7844c8f8caf0>"
            ]
          },
          "metadata": {},
          "execution_count": 74
        }
      ]
    },
    {
      "cell_type": "code",
      "source": [],
      "metadata": {
        "id": "7JYn6dXPD2uu"
      },
      "execution_count": 74,
      "outputs": []
    }
  ]
}